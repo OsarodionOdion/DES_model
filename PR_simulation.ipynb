{
 "cells": [
  {
   "cell_type": "code",
   "execution_count": null,
   "id": "8b866b63-6620-4147-a7dc-25df2bc3e5d7",
   "metadata": {},
   "outputs": [],
   "source": [
    "import math\n",
    "import simpy\n",
    "import numpy as np\n",
    "import pandas as pd\n",
    "import matplotlib.pyplot as plt\n",
    "import seaborn as sns\n",
    "from scipy import optimize\n",
    "from numpy.random import default_rng\n",
    "from IPython.display import Image\n",
    "from scipy.stats import expon"
   ]
  },
  {
   "cell_type": "markdown",
   "id": "31c2ac77-31c6-4531-96b6-71baac445e74",
   "metadata": {},
   "source": [
    "# Using Discrete Event Simulation to help plan purchasing in an organisation "
   ]
  },
  {
   "cell_type": "markdown",
   "id": "46eaf511-671e-4bb7-8b52-b377640271e4",
   "metadata": {},
   "source": [
    "Inorder to purchase items, it is common for organisations to require a set process for its members. Some organisations have dedicated departments and/or employees for this, such as the purchasing department, clerk etc. The title of the responsible entity may differ across organisations, however, the responsibilities tend to be similar. For organisations with a projectized structure, the project coordinators take up this responsibility, and depending on the size of the projectized organisation, other entities such as the finance department and the indirectbuyer can be involved. Here is an example of the flow of purchasing in such an organisation.\n",
    "\n",
    "Send application/request --> Create Purchase Requisition (PR) --> Approve Purchase Requisition --> place order (if online) --> issue PO to merchants --> Exit\n",
    "\n",
    "Members/Employees of the organisation send applications/requests (by email) to project coordinators. Project Coordinators create **Purchase Requisitions** and route them to finance for approval. Once approved, purchase requisitions for items that are to be purchased online are routed to project coordinators to place order. Approved purchase requisitions are routed to the indirect buyers of the organisation to issue **Purchase Orders**\n",
    "\n",
    "For this model, the above flow will be adpoted. Here are the model components:\n",
    "\n",
    "* The entities are applications\n",
    "* Entities are created when applications/requests are sent to project coordinators\n",
    "* Each stage of the process has a set number of resources such as project coordinators, members of the finance department responsible for reviewing and approving PRs, project coordinators to place online orders, and Indirect buyers to issue POs\n",
    "* Entities flow through different stages of the purchase requisition process, and at each stage, they:\n",
    "    - request one unit of the appropriate type of staff resource and wait if one is not available,\n",
    "    - after obtaining a staff resource they delay for some amount of time for the process to be completed,\n",
    "    - when the processing time has elapsed, the resource is released and the PR moves on to the next stage of the purchase requisition process (Mark Isken, 2021)\n",
    "* After the PO has been issued, the process ends for that PR.\n",
    "\n",
    "Our model should handle:\n",
    "* Uncertainty in the processing times of the individual steps above\n",
    "* Uncertainty in the application arrival times\n",
    "* Finite number of different types of resources\n",
    "* ability to estimate key process metrics such as application wait times, total time for completion, resource utilisation (Mark Isken, 2021)\n",
    "\n",
    "Model characteristics\n",
    "* The python library used for this model is __[SimPy](https://simpy.readthedocs.io/en/latest/)__\n",
    "* The arrival of applications is exponentially distributed *Poisson arrival process* (exponential distribution)\n",
    "* The time for the other stages (approve PR, place order, issue PO) are modeled as a normal distribution with the given mean and standard deviation\n",
    "\n",
    "This model could assist in deciding the number of resources needed at each stage of the process.\n"
   ]
  },
  {
   "cell_type": "markdown",
   "id": "cfd3f845-160a-47e4-b4bd-699d963b43ec",
   "metadata": {
    "tags": []
   },
   "source": [
    "## Stages in building the Purchase Requisition model\n",
    "\n",
    "This covers the different steps taken to build the model"
   ]
  },
  {
   "cell_type": "markdown",
   "id": "f444c94f-59c9-4b70-acfe-bd69403b440e",
   "metadata": {},
   "source": [
    "### Generate PR applications\n",
    "\n",
    "A model that generates a new application every n minutes"
   ]
  },
  {
   "cell_type": "code",
   "execution_count": null,
   "id": "903850c5-df2e-4c6e-9afb-5b7c1cba67c6",
   "metadata": {},
   "outputs": [],
   "source": [
    "# function to generate applications\n",
    "def PR_application(env, interapplication_time=5.0):\n",
    "    \"\"\"Generate Applications according to a fixed time arrival process\"\"\"\n",
    "    \n",
    "    # Counter to keep track of number of Applications generated and to serve as a unique Application ID\n",
    "    application = 0\n",
    "    \n",
    "    # Infinite loop for generating Applications\n",
    "    while True:\n",
    "        \n",
    "        # Generate next interapplication time (in minutes)\n",
    "        iat = interapplication_time\n",
    "        \n",
    "        # yield 'timeout' event\n",
    "        yield env.timeout(iat)\n",
    "        \n",
    "        # generate new application\n",
    "        application += 1\n",
    "        \n",
    "        print(f\"Application {application} created at time {env.now}\")\n",
    "        "
   ]
  },
  {
   "cell_type": "code",
   "execution_count": null,
   "id": "d058df44-87f6-4b88-8a7b-60a922cb812d",
   "metadata": {
    "tags": []
   },
   "outputs": [],
   "source": [
    "# Initialize a simulation environment\n",
    "env1 = simpy.Environment()\n",
    "\n",
    "# Create and start process generator, and add it to the env (for 1 workday - [60x8] mins )\n",
    "runtime = 60 * 8\n",
    "interapplication_time = 35.0\n",
    "env1.process(PR_application(env1, interapplication_time))\n",
    "\n",
    "# Run the simulation\n",
    "env1.run(until=runtime)"
   ]
  },
  {
   "cell_type": "markdown",
   "id": "d1a4fda3-2e46-4745-9f33-58bb44bcf11e",
   "metadata": {
    "tags": []
   },
   "source": [
    "### Modeling the arrival of applications (*Poisson Arrival Process*)\n",
    "\n",
    "The Purchase requisiton applications/requests will be modeled as an exponential distribution with the mean of the distribution as the `interapplication_time`"
   ]
  },
  {
   "cell_type": "code",
   "execution_count": null,
   "id": "07f94501-afd8-4751-a239-e4a48ece3d7c",
   "metadata": {},
   "outputs": [],
   "source": [
    "# function to model the arrival of applications\n",
    "def Purchase_application_random_1(env, mean_interapplication_time=5.0, rg=default_rng(0)):\n",
    "    \"\"\"Generate applications according to a Poisson arrival process\"\"\"\n",
    "    \n",
    "    # Counter to keep track of number of applications generated and to serve as a unique application ID\n",
    "    application = 0\n",
    "    \n",
    "    # Infinite loop for generating applications\n",
    "    while True:\n",
    "        \n",
    "        # Generate next interapplication time (exponential distribution with a mean of the mean_interapplication_time)\n",
    "        iat = rg.exponential(mean_interapplication_time)\n",
    "        \n",
    "        # yield 'timeout' event\n",
    "        yield env.timeout(iat)\n",
    "        \n",
    "        # generate new application\n",
    "        application += 1\n",
    "        \n",
    "        print(f\"application {application} created at time {env.now}\")\n",
    "        "
   ]
  },
  {
   "cell_type": "code",
   "execution_count": null,
   "id": "2fdb8ed0-6823-4b89-a88c-dc67f0d4be94",
   "metadata": {
    "tags": []
   },
   "outputs": [],
   "source": [
    "# Initialize a simulation environment\n",
    "env2 = simpy.Environment()\n",
    "\n",
    "# Create and start process generator, and add it to the env (for 1 workday - [60x8] mins )\n",
    "runtime = 60 * 8\n",
    "interapplication_time = 35.0\n",
    "env2.process(Purchase_application_random_1(env2, interapplication_time))\n",
    "\n",
    "# Run the simulation\n",
    "env2.run(until=runtime)"
   ]
  },
  {
   "cell_type": "markdown",
   "id": "fbe5de01-ffd3-46c6-be7d-c59565669a1e",
   "metadata": {
    "tags": []
   },
   "source": [
    "### Include project coordinator resource to model "
   ]
  },
  {
   "cell_type": "markdown",
   "id": "71def365-7b0d-4418-b671-bde469ebbece",
   "metadata": {},
   "source": [
    "The coordinator resource is added to the model to create PR for time = `mean_creation_time`, and a `mean_postcreation_time` is added to simulate events after the PR has been created"
   ]
  },
  {
   "cell_type": "code",
   "execution_count": null,
   "id": "525df9fc-f296-4bc4-a0ef-61bf8a8f43e6",
   "metadata": {
    "tags": []
   },
   "outputs": [],
   "source": [
    "def Purchase_application_Simplified(env, employee, mean_precreation_time, mean_creation_time, mean_postcreation_time, coordinator, rg=default_rng(0)):\n",
    "    \"\"\"Process function modeling how a PR flows through system.\"\"\"\n",
    "    print(f\"{employee} applied for PR at {env.now:.4f}\")\n",
    "    \n",
    "    # Yield for the precreation time\n",
    "    yield env.timeout(rg.exponential(mean_precreation_time))\n",
    "    \n",
    "    # Request project coordinator to create PR\n",
    "    with coordinator.request() as request:\n",
    "        print(f\"{employee} requested coordinator at {env.now:.4f}\")\n",
    "        yield request\n",
    "        print(f\"PR created for {employee} at {env.now:.4f}\")\n",
    "        yield env.timeout(rg.normal(mean_creation_time, 0.5))\n",
    "        \n",
    "    # Yield for the postcreation time\n",
    "    yield env.timeout(mean_postcreation_time)\n",
    "    \n",
    "    # Process over\n",
    "    print(f\"{employee} received P.O. at {env.now:.4f}\")"
   ]
  },
  {
   "cell_type": "markdown",
   "id": "1efd7bc2-d2f3-4c86-b883-1c9fee638678",
   "metadata": {},
   "source": [
    "**Combining project coordinator resource model with poisson arrival model**"
   ]
  },
  {
   "cell_type": "code",
   "execution_count": null,
   "id": "d6a44440-bedf-4de2-b9b2-9325b80c3ce2",
   "metadata": {},
   "outputs": [],
   "source": [
    "def Purchase_application_random_2(env, mean_interapplication_time, mean_precreation_time, mean_creation_time,\n",
    "                              mean_postcreation_time, coordinator,  rg=default_rng(0)):\n",
    "    \"\"\"Generate applications according to a Poisson arrival process\"\"\"\n",
    "    \n",
    "    # Counter to keep track of number of applications generated and to serve as a unique application ID\n",
    "    application = 0\n",
    "    \n",
    "    # Infinite loop for generating applications\n",
    "    while True:\n",
    "        \n",
    "        # Generate next interarrival time\n",
    "        iat = rg.exponential(mean_interapplication_time)\n",
    "        \n",
    "        # yield 'timeout' event\n",
    "        yield env.timeout(iat)\n",
    "        \n",
    "        # generate new application\n",
    "        application += 1\n",
    "        \n",
    "        print(f\"application {application} created at time {env.now}\")\n",
    "        \n",
    "        # Register the process with the simulation environment\n",
    "        env.process(Purchase_application_Simplified(env, 'Employee{}'.format(application), mean_precreation_time,\n",
    "                                                    mean_creation_time, mean_postcreation_time, coordinator))\n",
    "        \n",
    "        \n",
    "        "
   ]
  },
  {
   "cell_type": "code",
   "execution_count": null,
   "id": "e20b927b-3c79-47bd-91ad-2e3c3afa1db0",
   "metadata": {
    "tags": []
   },
   "outputs": [],
   "source": [
    "# Initialize a simulation environment\n",
    "env3 = simpy.Environment()\n",
    "\n",
    "# Set input values\n",
    "# rg = default_rng(seed=4470)\n",
    "mean_interapplication_time = 3.0\n",
    "mean_precreation_time = 5.0\n",
    "mean_creation_time = 30\n",
    "mean_postcreation_time = 120\n",
    "num_coordinators = 4\n",
    "\n",
    "# Create Coordinator resource\n",
    "coordinator = simpy.Resource(env3, num_coordinators)\n",
    "\n",
    "# register new application process\n",
    "env3.process(Purchase_application_random_2(env3, mean_interapplication_time, mean_precreation_time, mean_creation_time,\n",
    "                                           mean_postcreation_time, coordinator))\n",
    "\n",
    "# Run the simulation\n",
    "runtime = 50\n",
    "env3.run(until=runtime)"
   ]
  },
  {
   "cell_type": "markdown",
   "id": "8e70f323-141a-4aa9-84b4-3f4934ebe986",
   "metadata": {},
   "source": [
    "## The Purchase Requisition model"
   ]
  },
  {
   "cell_type": "markdown",
   "id": "2607bd91-140d-4797-b556-4de95591d8ed",
   "metadata": {},
   "source": [
    "The *purchase requisition* process will be modeled with a python class with these attributes:\n",
    "\n",
    "* the SimPy environment\n",
    "* resource capacity related inputs\n",
    "* data structures to store data collected as applications flow through the system\n",
    "* the SimPy resources for modeling the various types of staff modeled\n",
    "* process methods corresponding to processing times in each stage in the PR flow diagram"
   ]
  },
  {
   "cell_type": "code",
   "execution_count": null,
   "id": "d4e84338-e3dc-4f95-9d30-28caf1c8f246",
   "metadata": {},
   "outputs": [],
   "source": [
    "class purchase_requisition(object):\n",
    "    def __init__(self, env, num_coordinators, num_approvers, num_indirectbuyers, mean_create_pr_time, mean_approve_pr_time,\n",
    "                 approve_pr_time_sd, mean_create_order_time, create_order_time_sd, mean_create_po_time, create_po_time_sd, rg):\n",
    "        # Simulation environment\n",
    "        self.env = env\n",
    "        self.rg = rg\n",
    "        \n",
    "        # list to hold timestamps dictionaries (one per PR)\n",
    "        self.timestamps_list = []\n",
    "        # list to hold PR queues (time, queue)\n",
    "        self.pr_queue = [(0.0, 0.0)]\n",
    "        self.postapproval_queue = [(0.0, 0.0)]\n",
    "        \n",
    "        # Create resources\n",
    "        self.coordinator = simpy.Resource(env, num_coordinators)\n",
    "        self.approver = simpy.Resource(env, num_approvers)\n",
    "        self.indirectbuyer = simpy.Resource(env, num_indirectbuyers)\n",
    "        \n",
    "        # process parameters\n",
    "        self.mean_create_pr_time = mean_create_pr_time\n",
    "        self.mean_approve_pr_time = mean_approve_pr_time\n",
    "        self.approve_pr_time_sd = approve_pr_time_sd\n",
    "        self.mean_create_order_time = mean_create_order_time\n",
    "        self.create_order_time_sd = create_order_time_sd\n",
    "        self.mean_create_po_time = mean_create_po_time\n",
    "        self.create_po_time_sd = create_po_time_sd\n",
    "        \n",
    "    # Process methods\n",
    "    def create_PR(self, application):\n",
    "        # exponential distribution with a mean time of 15.0 mins\n",
    "        yield self.env.timeout(self.rg.exponential(self.mean_create_pr_time))\n",
    "        \n",
    "    def approve(self, application):\n",
    "        # normal distribution with a mean and sd of 5.0, and 1.0 respectively\n",
    "        yield self.env.timeout(self.rg.normal(self.mean_approve_pr_time, self.approve_pr_time_sd))\n",
    "        \n",
    "    def create_order(self, application):\n",
    "        # normal distribution with a mean and sd of 10.0, and 3.0 respectively\n",
    "        yield self.env.timeout(self.rg.normal(self.mean_create_order_time, self.create_order_time_sd))\n",
    "        \n",
    "    def create_po(self, application):\n",
    "        # normal distribution with a mean and sd of 5.0, and 1.0 respectively\n",
    "        yield self.env.timeout(self.rg.normal(self.mean_create_po_time, self.create_po_time_sd))\n",
    "        "
   ]
  },
  {
   "cell_type": "markdown",
   "id": "df54414e-07ab-4c18-9bc3-f7face501e97",
   "metadata": {},
   "source": [
    "### The purchase function"
   ]
  },
  {
   "cell_type": "markdown",
   "id": "d0e7318b-5d46-42ba-b8c8-f56aeb9269d7",
   "metadata": {},
   "source": [
    "The `purchase` function is created to define the stages an application/purchase requisition goes through in the organisation. The function will capture timestamps for performance measures such as waiting times and resource utilization. The function inputs include:\n",
    "\n",
    "* the simulation environment\n",
    "* the Purchase Requisition I.D\n",
    "* the Purchase Requisition object (created from the purchase_requisition class)\n",
    "* the percentage of online orders\n",
    "* the random number generator"
   ]
  },
  {
   "cell_type": "code",
   "execution_count": null,
   "id": "72c97659-d21b-46df-8be1-39999be14739",
   "metadata": {},
   "outputs": [],
   "source": [
    "def purchase(env, application, purchase_requisition, pct_online, rg):\n",
    "    # An application is received\n",
    "    app_request_ts = env.now\n",
    "    \n",
    "    # release coordinator to create PR\n",
    "    with purchase_requisition.coordinator.request() as request:\n",
    "        yield request\n",
    "        # With coordinator, create application\n",
    "        got_coordinator_ts = env.now\n",
    "        \n",
    "        # increase and updated PR queue\n",
    "        purchase_requisition.pr_queue.append((env.now, purchase_requisition.pr_queue[-1][1] + 1))\n",
    "        \n",
    "        yield env.process(purchase_requisition.create_PR(application))\n",
    "        release_coordinator_ts = env.now\n",
    "        \n",
    "    # Request approver to approve PR\n",
    "    with purchase_requisition.approver.request() as request:\n",
    "        yield request\n",
    "        got_approver_ts = env.now\n",
    "        yield env.process(purchase_requisition.approve(application))\n",
    "        release_approver_ts = env.now\n",
    "        \n",
    "        # decrease and update PR queue\n",
    "        purchase_requisition.pr_queue.append((env.now, purchase_requisition.pr_queue[-1][1] - 1))\n",
    "        \n",
    "        # increase and update post approval queue\n",
    "        purchase_requisition.postapproval_queue.append((env.now, purchase_requisition.postapproval_queue[-1][1] + 1))\n",
    "        \n",
    "    # if online order, request coordinator to place order on online\n",
    "    if rg.random() < pct_online:\n",
    "        with purchase_requisition.coordinator.request() as request:\n",
    "            yield request\n",
    "            got_coordinator2_ts = env.now\n",
    "            yield env.process(purchase_requisition.create_order(application))\n",
    "            release_coordinator2_ts = env.now      \n",
    "    else:\n",
    "        got_coordinator2_ts = pd.NA\n",
    "        release_coordinator2_ts = pd.NA\n",
    "    \n",
    "    # Request indirect buyer to issue PO\n",
    "    with purchase_requisition.indirectbuyer.request() as request:\n",
    "        yield request\n",
    "        got_indirectbuyer_ts = env.now\n",
    "        yield env.process(purchase_requisition.create_po(application))\n",
    "        release_indirectbuyer_ts = env.now\n",
    "        \n",
    "        # decrease and update post approval queue\n",
    "        purchase_requisition.postapproval_queue.append((env.now, purchase_requisition.postapproval_queue[-1][1] -1))\n",
    "        \n",
    "        \n",
    "    exit_system_ts = env.now\n",
    "    # print(f'PO has been issued for purchase requisition application {application}')\n",
    "    \n",
    "    # Create dictionary of timestamps\n",
    "    timestamps = {'application_id': application,\n",
    "                  'app_request_ts': app_request_ts,\n",
    "                  'got_coordinator_ts': got_coordinator_ts,\n",
    "                  'release_coordinator_ts': release_coordinator_ts,\n",
    "                  'got_approver_ts': got_approver_ts,\n",
    "                  'release_approver_ts': release_approver_ts,\n",
    "                  'got_coordinator2_ts': got_coordinator2_ts,\n",
    "                  'release_coordinator2_ts': release_coordinator2_ts,\n",
    "                  'got_indirectbuyer_ts': got_indirectbuyer_ts,\n",
    "                  'release_indirectbuyer_ts': release_indirectbuyer_ts,\n",
    "                  'exit_system_ts': exit_system_ts}\n",
    "    \n",
    "    purchase_requisition.timestamps_list.append(timestamps)\n",
    "                  "
   ]
  },
  {
   "cell_type": "markdown",
   "id": "21d054a0-d402-45b2-8531-58fa9327c9f5",
   "metadata": {},
   "source": [
    "### The run_pr function"
   ]
  },
  {
   "cell_type": "markdown",
   "id": "5c1ebd4d-a315-4616-a23b-dce98b614bbe",
   "metadata": {},
   "source": [
    "The `run_pr function` will run the **Purchase Requisition** process. The function includes:\n",
    "\n",
    "* the simulation environment\n",
    "* the purchase requisition object\n",
    "* the mean interapplication time\n",
    "* the percentage of requisitions containing online items\n",
    "* the random number generator\n",
    "* stopping condition for the simulation through either a stop time or a maximum number of applications"
   ]
  },
  {
   "cell_type": "code",
   "execution_count": null,
   "id": "a1d67864-a126-4038-af89-cb152b348481",
   "metadata": {},
   "outputs": [],
   "source": [
    "def run_pr(env, purchase_requisition, mean_interapplication_time, pct_online, rg,\n",
    "           stoptime=simpy.core.Infinity, max_applications=simpy.core.Infinity):\n",
    "    \n",
    "    # application counter/ID\n",
    "    application = 0\n",
    "    \n",
    "    # Loop for generating applications\n",
    "    while env.now < stoptime and application < max_applications:\n",
    "        \n",
    "        iat = rg.exponential(mean_interapplication_time)\n",
    "        yield env.timeout(iat)\n",
    "        application += 1\n",
    "        \n",
    "        # print(f\"Purchase Requisition application {application} created at time {env.now}\")\n",
    "        \n",
    "        env.process(purchase(env, application, purchase_requisition, pct_online, rg))\n",
    "        "
   ]
  },
  {
   "cell_type": "markdown",
   "id": "b71b3fb9-5ed1-43f5-a320-7107448c5cd3",
   "metadata": {
    "tags": []
   },
   "source": [
    "# Function to Launch Simulation"
   ]
  },
  {
   "cell_type": "markdown",
   "id": "02ca2e33-2081-423d-977b-685a5e8b9c1f",
   "metadata": {},
   "source": [
    "### Set Input Parameters"
   ]
  },
  {
   "cell_type": "code",
   "execution_count": null,
   "id": "d3ebd35b-f0b2-40ee-89a9-0af3a0a21079",
   "metadata": {},
   "outputs": [],
   "source": [
    "# Set All Input Parameters Here\n",
    "\n",
    "applications_per_hour = 20\n",
    "mean_interapplication_time = 1.0 / (applications_per_hour / 60.0)\n",
    "pct_online = 0.25\n",
    "    \n",
    "# Random number generator seed\n",
    "rg = default_rng(seed=4470)\n",
    "    \n",
    "# Resource capacity levels\n",
    "num_coordinators = 7\n",
    "num_approvers = 2\n",
    "num_indirectbuyers = 2\n",
    "    \n",
    "# Process parameters\n",
    "mean_create_pr_time = 15.0\n",
    "mean_approve_pr_time = 5.0\n",
    "approve_pr_time_sd = 1.0\n",
    "mean_create_order_time = 10.0\n",
    "create_order_time_sd = 3.0\n",
    "mean_create_po_time = 5.0\n",
    "create_po_time_sd = 1.0\n",
    "    \n",
    "# minutes of operation\n",
    "stoptime = 8*60\n"
   ]
  },
  {
   "cell_type": "markdown",
   "id": "150000f9-39b0-46c9-8771-b8c29ce7a93b",
   "metadata": {},
   "source": [
    "### Run Simulation Environment"
   ]
  },
  {
   "cell_type": "code",
   "execution_count": null,
   "id": "0202bc34-c202-49e8-bc00-9d5017b51b08",
   "metadata": {},
   "outputs": [],
   "source": [
    "def main():\n",
    "    # Create simulation environment\n",
    "    env = simpy.Environment()\n",
    "    \n",
    "    # create purchase requisition to simulate\n",
    "    requisition = purchase_requisition(env, num_coordinators, num_approvers, num_indirectbuyers, mean_create_pr_time,\n",
    "                                       mean_approve_pr_time, approve_pr_time_sd, mean_create_order_time, create_order_time_sd,\n",
    "                                       mean_create_po_time, create_po_time_sd, rg)\n",
    "    \n",
    "    # Register PR creation function\n",
    "    env.process(run_pr(env, requisition, mean_interapplication_time, pct_online, rg, stoptime=stoptime))\n",
    "    # Run simulation\n",
    "    env.run()\n",
    "    \n",
    "    # Output log files\n",
    "    pr_application_log_df = pd.DataFrame(requisition.timestamps_list)\n",
    "    pr_application_log_df.to_csv('./output/pr_application_log_df.csv', index=False)\n",
    "    \n",
    "    pr_queue_df = pd.DataFrame(requisition.pr_queue, columns=['ts', 'queue'])\n",
    "    pr_queue_df.to_csv('./output/pr_queue_df.csv', index=False)\n",
    "    \n",
    "    postapproval_queue_df = pd.DataFrame(requisition.postapproval_queue, columns=['ts', 'queue'])\n",
    "    postapproval_queue_df.to_csv('./output/postapproval_queue_df.csv', index=False)\n",
    "    \n",
    "    # Simulation end time\n",
    "    end_time = env.now\n",
    "    print(f\"Simulation ended at time {end_time}\")\n",
    "    return (end_time)\n",
    "    "
   ]
  },
  {
   "cell_type": "code",
   "execution_count": null,
   "id": "1edf3302-ad8b-4c0b-bb62-468f9c1f3574",
   "metadata": {
    "tags": []
   },
   "outputs": [],
   "source": [
    "pr_end_time = main()"
   ]
  },
  {
   "cell_type": "markdown",
   "id": "33879e7b-4d1e-472c-86b4-fb2167070063",
   "metadata": {},
   "source": [
    "## Post-Processing\n"
   ]
  },
  {
   "cell_type": "code",
   "execution_count": null,
   "id": "2c2902ae-481b-44ac-9076-d1d2340ba97c",
   "metadata": {},
   "outputs": [],
   "source": [
    "# Read application log file\n",
    "pr_application_log_df = pd.read_csv('./output/pr_application_log_df.csv')\n",
    "pr_application_log_df.info()"
   ]
  },
  {
   "cell_type": "code",
   "execution_count": null,
   "id": "83cdd468-0dea-4748-8b98-4070e7cdde18",
   "metadata": {},
   "outputs": [],
   "source": [
    "pr_application_log_df.head()"
   ]
  },
  {
   "cell_type": "code",
   "execution_count": null,
   "id": "e4d3f16d-71be-4b23-954e-266214f06504",
   "metadata": {},
   "outputs": [],
   "source": [
    "def compute_durations(timestamp_df):\n",
    "    \n",
    "    timestamp_df['wait_for_coordinator'] = timestamp_df.loc[:, 'got_coordinator_ts'] - timestamp_df.loc[:, 'app_request_ts']\n",
    "    timestamp_df['time_to_create_PR'] = timestamp_df.loc[:, 'release_coordinator_ts'] - timestamp_df.loc[:, 'got_coordinator_ts']\n",
    "    timestamp_df['wait_for_approver'] = timestamp_df.loc[:, 'got_approver_ts'] - timestamp_df.loc[:, 'release_coordinator_ts']\n",
    "    timestamp_df['time_to_approve'] = timestamp_df.loc[:, 'release_approver_ts'] - timestamp_df.loc[:, 'got_approver_ts']\n",
    "    timestamp_df['wait_for_indirectbuyer'] = timestamp_df.loc[:, 'got_indirectbuyer_ts'] - timestamp_df.loc[:, 'release_approver_ts']\n",
    "    timestamp_df['time_to_issue_po'] = timestamp_df.loc[:, 'release_indirectbuyer_ts'] - timestamp_df.loc[:, 'got_indirectbuyer_ts']\n",
    "    timestamp_df['post_approval_time'] = timestamp_df.loc[:, 'exit_system_ts'] - timestamp_df.loc[:, 'release_approver_ts']\n",
    "    timestamp_df['time_in_system'] = timestamp_df.loc[:, 'exit_system_ts'] - timestamp_df.loc[:, 'app_request_ts']\n",
    "    \n",
    "    return timestamp_df"
   ]
  },
  {
   "cell_type": "code",
   "execution_count": null,
   "id": "a3270b1f-5411-4a3d-a320-6158ea33530a",
   "metadata": {},
   "outputs": [],
   "source": [
    "pr_application_log_df = compute_durations(pr_application_log_df)\n",
    "pr_application_log_df"
   ]
  },
  {
   "cell_type": "markdown",
   "id": "aea01509-5700-4059-b25c-7b3520bfdebb",
   "metadata": {},
   "source": [
    "## Key Summary Stats\n"
   ]
  },
  {
   "cell_type": "code",
   "execution_count": null,
   "id": "5e9212f9-ebb3-45a8-842b-873b1d7559db",
   "metadata": {},
   "outputs": [],
   "source": [
    "mean_time_in_system = pr_application_log_df['time_in_system'].mean()\n",
    "print(f'mean total time in system: {mean_time_in_system:.4f}')"
   ]
  },
  {
   "cell_type": "code",
   "execution_count": null,
   "id": "7747e999-bff2-43a0-9969-380cb0524a6c",
   "metadata": {},
   "outputs": [],
   "source": [
    "plt.hist(pr_application_log_df['time_in_system'])\n",
    "plt.title('Histogram of total time in system')\n",
    "plt.xlabel('Total time in system (minutes)')\n",
    "plt.ylabel('Number of applications')\n",
    "plt.show()"
   ]
  },
  {
   "cell_type": "code",
   "execution_count": null,
   "id": "08ef9163-979b-4aa0-84f4-8c718d6115fa",
   "metadata": {},
   "outputs": [],
   "source": [
    "pr_application_log_df.loc[:,['wait_for_coordinator', 'wait_for_approver',\n",
    "                             'wait_for_indirectbuyer', 'time_in_system']].describe()"
   ]
  },
  {
   "cell_type": "code",
   "execution_count": null,
   "id": "50fd1789-5647-41a1-8efd-1dbc32b016e2",
   "metadata": {},
   "outputs": [],
   "source": [
    "# rolling mean for time in system\n",
    "y = pr_application_log_df['time_in_system'].rolling(20, 20).mean()\n",
    "plt.plot(y)\n",
    "plt.title('rolling mean for time in system')\n",
    "plt.xlabel('rolling mean time (minutes)')\n",
    "plt.ylabel('Number of applications')\n",
    "plt.show()"
   ]
  },
  {
   "cell_type": "markdown",
   "id": "c43b5fab-7b79-4673-b1ec-623f6f22ba9f",
   "metadata": {},
   "source": [
    "**Resource utilization**\n"
   ]
  },
  {
   "cell_type": "code",
   "execution_count": null,
   "id": "0f0b2cde-ea4f-48f4-9b39-89d7303b3ad3",
   "metadata": {},
   "outputs": [],
   "source": [
    "available_capacity_coordinator = pr_end_time * num_coordinators\n",
    "available_capacity_approvers = pr_end_time * num_approvers\n",
    "available_capacity_indirectbuyers = pr_end_time * num_indirectbuyers\n",
    "\n",
    "used_capacity_coordinators = pr_application_log_df['time_to_create_PR'].sum()\n",
    "used_capacity_approvers = pr_application_log_df['time_to_approve'].sum()\n",
    "used_capacity_indirectbuyers = pr_application_log_df['time_to_issue_po'].sum()\n",
    "\n",
    "coordinators_utilization = used_capacity_coordinators / available_capacity_coordinator\n",
    "approvers_utilization = used_capacity_approvers / available_capacity_approvers\n",
    "indirectbuyers_utilization = used_capacity_indirectbuyers / available_capacity_indirectbuyers\n",
    "\n",
    "print(f'The utilisation rate of project coordinators is {coordinators_utilization}')\n",
    "print(f'The utilisation rate of assigned approvers is {approvers_utilization}')\n",
    "print(f'The utilisation rate of indirect buyers is {indirectbuyers_utilization}')\n",
    "\n"
   ]
  },
  {
   "cell_type": "code",
   "execution_count": null,
   "id": "406a7173-9d97-46e8-94bb-7464ee707bba",
   "metadata": {},
   "outputs": [],
   "source": []
  }
 ],
 "metadata": {
  "kernelspec": {
   "display_name": "Python [conda env:aap]",
   "language": "python",
   "name": "conda-env-aap-py"
  },
  "language_info": {
   "codemirror_mode": {
    "name": "ipython",
    "version": 3
   },
   "file_extension": ".py",
   "mimetype": "text/x-python",
   "name": "python",
   "nbconvert_exporter": "python",
   "pygments_lexer": "ipython3",
   "version": "3.7.13"
  }
 },
 "nbformat": 4,
 "nbformat_minor": 5
}
