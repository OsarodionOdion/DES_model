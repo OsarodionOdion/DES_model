{
 "cells": [
  {
   "cell_type": "code",
   "execution_count": 1,
   "id": "8b866b63-6620-4147-a7dc-25df2bc3e5d7",
   "metadata": {},
   "outputs": [],
   "source": [
    "import math\n",
    "import numpy as np\n",
    "import pandas as pd\n",
    "from scipy import optimize\n",
    "import matplotlib.pyplot as plt\n",
    "import seaborn as sns\n",
    "from numpy.random import default_rng\n",
    "from IPython.display import Image\n",
    "import simpy"
   ]
  },
  {
   "cell_type": "markdown",
   "id": "d146e0fd-9265-4f34-9573-70240a2550f6",
   "metadata": {},
   "source": [
    "# Simulation Modeling"
   ]
  },
  {
   "cell_type": "markdown",
   "id": "31c2ac77-31c6-4531-96b6-71baac445e74",
   "metadata": {},
   "source": [
    "## Using Discrete Event Simulation to help plan Purchase Requisition for Project Coordinators"
   ]
  },
  {
   "cell_type": "markdown",
   "id": "46eaf511-671e-4bb7-8b52-b377640271e4",
   "metadata": {},
   "source": [
    "Send application --> application Review --> Create PR on Requisition Management System --> if Amazon, Place order on amazon with Req. # --> Level 1 approval --> Level 2 approval --> issue PO to merchants --> items delivered --> PR closed\n",
    "\n",
    "Model components:\n",
    "* The entities are applications\n",
    "* Entities are created by email\n",
    "* Resources at different stages - Employees, Project Coordinators, Level aprrovers - Directors, level 2 approvers - Finance, Indirect Buyer, Merchants, Delivery service\n",
    "* Entities flow through the different stages of the process, and at each stage; they...... (rewrite)\n",
    "\n",
    "Our model should handle:\n",
    "* Uncertainty in the processing times of the individual steps above\n",
    "* Uncertainty in the application arrival times\n",
    "* Finite number of different types of resources\n",
    "* Estimating key process metrics such as wait times, total time in for completion, resource utilisation\n",
    "\n",
    "The advantages of model .......\n",
    "\n",
    "\n",
    "**Tools** - DES Software - Simpy\n"
   ]
  },
  {
   "cell_type": "markdown",
   "id": "cfd3f845-160a-47e4-b4bd-699d963b43ec",
   "metadata": {},
   "source": [
    "## Model 1: Generate PR applications\n",
    "\n",
    "Model 1 generates PR Applications. It generates a new Application every n minutes"
   ]
  },
  {
   "cell_type": "code",
   "execution_count": 2,
   "id": "903850c5-df2e-4c6e-9afb-5b7c1cba67c6",
   "metadata": {},
   "outputs": [],
   "source": [
    "def PR_application(env, interapplication_time=5.0):\n",
    "    \"\"\"Generate Applications according to a fixed time arrival process\"\"\"\n",
    "    \n",
    "    # Counter to keep track of number of Applications generated and to serve as a unique Application ID\n",
    "    application = 0\n",
    "    \n",
    "    # Infinite loop for generating Applications\n",
    "    while True:\n",
    "        \n",
    "        # Generate next interarrival time\n",
    "        irt = interapplication_time\n",
    "        \n",
    "        # yield 'timeout' event\n",
    "        yield env.timeout(irt)\n",
    "        \n",
    "        # generate new application\n",
    "        application += 1\n",
    "        \n",
    "        print(f\"Application {application} created at time {env.now}\")\n",
    "        "
   ]
  },
  {
   "cell_type": "code",
   "execution_count": 3,
   "id": "d058df44-87f6-4b88-8a7b-60a922cb812d",
   "metadata": {
    "collapsed": true,
    "jupyter": {
     "outputs_hidden": true
    },
    "tags": []
   },
   "outputs": [
    {
     "name": "stdout",
     "output_type": "stream",
     "text": [
      "Application 1 created at time 5.0\n",
      "Application 2 created at time 10.0\n",
      "Application 3 created at time 15.0\n",
      "Application 4 created at time 20.0\n",
      "Application 5 created at time 25.0\n",
      "Application 6 created at time 30.0\n",
      "Application 7 created at time 35.0\n",
      "Application 8 created at time 40.0\n",
      "Application 9 created at time 45.0\n",
      "Application 10 created at time 50.0\n",
      "Application 11 created at time 55.0\n",
      "Application 12 created at time 60.0\n",
      "Application 13 created at time 65.0\n",
      "Application 14 created at time 70.0\n",
      "Application 15 created at time 75.0\n",
      "Application 16 created at time 80.0\n",
      "Application 17 created at time 85.0\n",
      "Application 18 created at time 90.0\n",
      "Application 19 created at time 95.0\n",
      "Application 20 created at time 100.0\n",
      "Application 21 created at time 105.0\n",
      "Application 22 created at time 110.0\n",
      "Application 23 created at time 115.0\n",
      "Application 24 created at time 120.0\n",
      "Application 25 created at time 125.0\n",
      "Application 26 created at time 130.0\n",
      "Application 27 created at time 135.0\n",
      "Application 28 created at time 140.0\n",
      "Application 29 created at time 145.0\n",
      "Application 30 created at time 150.0\n",
      "Application 31 created at time 155.0\n",
      "Application 32 created at time 160.0\n",
      "Application 33 created at time 165.0\n",
      "Application 34 created at time 170.0\n",
      "Application 35 created at time 175.0\n",
      "Application 36 created at time 180.0\n",
      "Application 37 created at time 185.0\n",
      "Application 38 created at time 190.0\n",
      "Application 39 created at time 195.0\n",
      "Application 40 created at time 200.0\n",
      "Application 41 created at time 205.0\n",
      "Application 42 created at time 210.0\n",
      "Application 43 created at time 215.0\n",
      "Application 44 created at time 220.0\n",
      "Application 45 created at time 225.0\n",
      "Application 46 created at time 230.0\n",
      "Application 47 created at time 235.0\n",
      "Application 48 created at time 240.0\n",
      "Application 49 created at time 245.0\n",
      "Application 50 created at time 250.0\n",
      "Application 51 created at time 255.0\n",
      "Application 52 created at time 260.0\n",
      "Application 53 created at time 265.0\n",
      "Application 54 created at time 270.0\n",
      "Application 55 created at time 275.0\n",
      "Application 56 created at time 280.0\n",
      "Application 57 created at time 285.0\n",
      "Application 58 created at time 290.0\n",
      "Application 59 created at time 295.0\n",
      "Application 60 created at time 300.0\n",
      "Application 61 created at time 305.0\n",
      "Application 62 created at time 310.0\n",
      "Application 63 created at time 315.0\n",
      "Application 64 created at time 320.0\n",
      "Application 65 created at time 325.0\n",
      "Application 66 created at time 330.0\n",
      "Application 67 created at time 335.0\n",
      "Application 68 created at time 340.0\n",
      "Application 69 created at time 345.0\n",
      "Application 70 created at time 350.0\n",
      "Application 71 created at time 355.0\n",
      "Application 72 created at time 360.0\n",
      "Application 73 created at time 365.0\n",
      "Application 74 created at time 370.0\n",
      "Application 75 created at time 375.0\n",
      "Application 76 created at time 380.0\n",
      "Application 77 created at time 385.0\n",
      "Application 78 created at time 390.0\n",
      "Application 79 created at time 395.0\n",
      "Application 80 created at time 400.0\n",
      "Application 81 created at time 405.0\n",
      "Application 82 created at time 410.0\n",
      "Application 83 created at time 415.0\n",
      "Application 84 created at time 420.0\n",
      "Application 85 created at time 425.0\n",
      "Application 86 created at time 430.0\n",
      "Application 87 created at time 435.0\n",
      "Application 88 created at time 440.0\n",
      "Application 89 created at time 445.0\n",
      "Application 90 created at time 450.0\n",
      "Application 91 created at time 455.0\n",
      "Application 92 created at time 460.0\n",
      "Application 93 created at time 465.0\n",
      "Application 94 created at time 470.0\n",
      "Application 95 created at time 475.0\n"
     ]
    }
   ],
   "source": [
    "# Initialize a simulation environment\n",
    "env1 = simpy.Environment()\n",
    "\n",
    "# Create and start process generator, and add it to the env (for 1 workday - [60x8] mins )\n",
    "runtime = 60 * 8\n",
    "interapplication_time = 5.0\n",
    "env1.process(PR_application(env1, interapplication_time))\n",
    "\n",
    "# Run the simulation\n",
    "env1.run(until=runtime)"
   ]
  },
  {
   "cell_type": "markdown",
   "id": "d1a4fda3-2e46-4745-9f33-58bb44bcf11e",
   "metadata": {
    "tags": []
   },
   "source": [
    "### Poisson Arrival Process"
   ]
  },
  {
   "cell_type": "code",
   "execution_count": 4,
   "id": "54fa96f0-3064-4896-84ce-106ad60f6899",
   "metadata": {},
   "outputs": [],
   "source": [
    "from numpy.random import default_rng\n",
    "rg = default_rng(seed=4470)"
   ]
  },
  {
   "cell_type": "code",
   "execution_count": 5,
   "id": "40224ea1-fcf0-4efa-98f9-9bfafdda1e62",
   "metadata": {},
   "outputs": [],
   "source": [
    "from scipy.stats import expon\n",
    "mean_interapplication_time = interapplication_time "
   ]
  },
  {
   "cell_type": "code",
   "execution_count": 6,
   "id": "07f94501-afd8-4751-a239-e4a48ece3d7c",
   "metadata": {},
   "outputs": [],
   "source": [
    "def Purchase_application_random_1(env, mean_interapplication_time=5.0, rg=default_rng(0)):\n",
    "    \"\"\"Generate applications according to a Poisson arrival process\"\"\"\n",
    "    \n",
    "    # Counter to keep track of number of applications generated and to serve as a unique application ID\n",
    "    application = 0\n",
    "    \n",
    "    # Infinite loop for generating applications\n",
    "    while True:\n",
    "        \n",
    "        # Generate next interarrival time\n",
    "        irt = rg.exponential(mean_interapplication_time)\n",
    "        \n",
    "        # yield 'timeout' event\n",
    "        yield env.timeout(irt)\n",
    "        \n",
    "        # generate new application\n",
    "        application += 1\n",
    "        \n",
    "        print(f\"application {application} created at time {env.now}\")\n",
    "        "
   ]
  },
  {
   "cell_type": "code",
   "execution_count": 7,
   "id": "2fdb8ed0-6823-4b89-a88c-dc67f0d4be94",
   "metadata": {
    "tags": []
   },
   "outputs": [
    {
     "name": "stdout",
     "output_type": "stream",
     "text": [
      "application 1 created at time 3.3996595198445476\n",
      "application 2 created at time 8.49764502717387\n",
      "application 3 created at time 8.596678340119148\n",
      "application 4 created at time 8.60802497352529\n",
      "application 5 created at time 11.35973933672053\n",
      "application 6 created at time 19.509441510012458\n",
      "application 7 created at time 22.877356273348617\n",
      "application 8 created at time 26.653863062475573\n",
      "application 9 created at time 40.7377929578542\n",
      "application 10 created at time 71.02655836006706\n",
      "application 11 created at time 87.45869964953577\n",
      "application 12 created at time 87.46513840120988\n",
      "application 13 created at time 98.81061172254442\n",
      "application 14 created at time 99.17310014714388\n",
      "application 15 created at time 104.52010165798048\n",
      "application 16 created at time 108.76476680570316\n",
      "application 17 created at time 124.51431006939562\n",
      "application 18 created at time 126.28436028036187\n",
      "application 19 created at time 127.8199159785036\n",
      "application 20 created at time 135.28101304413372\n",
      "application 21 created at time 135.46603403806216\n",
      "application 22 created at time 136.14268809914822\n",
      "application 23 created at time 141.29367863241043\n",
      "application 24 created at time 145.16641972227643\n",
      "application 25 created at time 153.8548122724797\n",
      "application 26 created at time 155.92316270165324\n",
      "application 27 created at time 158.16421651839389\n",
      "application 28 created at time 167.42467828329535\n",
      "application 29 created at time 176.0507463339104\n",
      "application 30 created at time 177.66804270166338\n",
      "application 31 created at time 178.72184980605485\n",
      "application 32 created at time 184.83831960489974\n",
      "application 33 created at time 187.52994062125165\n",
      "application 34 created at time 191.80336608983848\n",
      "application 35 created at time 197.04697714118748\n",
      "application 36 created at time 203.2078303606763\n",
      "application 37 created at time 217.8486769272416\n",
      "application 38 created at time 218.6171207201823\n",
      "application 39 created at time 225.9461452961114\n",
      "application 40 created at time 231.56733294145766\n",
      "application 41 created at time 241.05758503310545\n",
      "application 42 created at time 244.0525449038365\n",
      "application 43 created at time 246.39596822543595\n",
      "application 44 created at time 250.4815048078238\n",
      "application 45 created at time 251.80385119959348\n",
      "application 46 created at time 255.53296364461957\n",
      "application 47 created at time 256.0632739245127\n",
      "application 48 created at time 264.29801089286434\n",
      "application 49 created at time 275.6942017307609\n",
      "application 50 created at time 278.4547141034504\n",
      "application 51 created at time 294.2683688670028\n",
      "application 52 created at time 294.80688202424653\n",
      "application 53 created at time 296.20459597787413\n",
      "application 54 created at time 297.69083939303624\n",
      "application 55 created at time 301.50862407767903\n",
      "application 56 created at time 306.1873503801757\n",
      "application 57 created at time 308.86706443409287\n",
      "application 58 created at time 309.4898346046041\n",
      "application 59 created at time 319.47979138745285\n",
      "application 60 created at time 321.9671109647446\n",
      "application 61 created at time 322.5349605380473\n",
      "application 62 created at time 326.3911426757361\n",
      "application 63 created at time 327.8736408886442\n",
      "application 64 created at time 329.95325151423344\n",
      "application 65 created at time 331.21260589430614\n",
      "application 66 created at time 333.7884379393319\n",
      "application 67 created at time 338.7769612360769\n",
      "application 68 created at time 339.2610870822083\n",
      "application 69 created at time 345.1737342355195\n",
      "application 70 created at time 359.57424804926245\n",
      "application 71 created at time 363.8979649478985\n",
      "application 72 created at time 382.385603379184\n",
      "application 73 created at time 384.92008921154337\n",
      "application 74 created at time 391.34932809906456\n",
      "application 75 created at time 401.4434487376738\n",
      "application 76 created at time 405.67340730240954\n",
      "application 77 created at time 409.3937311087342\n",
      "application 78 created at time 412.39734317697213\n",
      "application 79 created at time 412.7607291573078\n",
      "application 80 created at time 435.0236495771314\n",
      "application 81 created at time 443.3752507544452\n",
      "application 82 created at time 445.9849114685685\n",
      "application 83 created at time 454.76007341322367\n",
      "application 84 created at time 459.83462559662814\n",
      "application 85 created at time 459.89487242534705\n",
      "application 86 created at time 466.74649109560676\n",
      "application 87 created at time 473.81485677914003\n",
      "application 88 created at time 476.34058782697105\n",
      "application 89 created at time 476.40728813216066\n"
     ]
    }
   ],
   "source": [
    "# Initialize a simulation environment\n",
    "env2 = simpy.Environment()\n",
    "\n",
    "# Create and start process generator, and add it to the env (for 1 workday - [60x8] mins )\n",
    "runtime = 60 * 8\n",
    "interapplication_time = 5.0\n",
    "env2.process(Purchase_application_random_1(env2, interapplication_time))\n",
    "\n",
    "# Run the simulation\n",
    "env2.run(until=runtime)"
   ]
  },
  {
   "cell_type": "markdown",
   "id": "fbe5de01-ffd3-46c6-be7d-c59565669a1e",
   "metadata": {},
   "source": [
    "## Model 2: Simplified version with delay process and one resource"
   ]
  },
  {
   "cell_type": "markdown",
   "id": "3137883a-c343-4ffb-91e2-556adffff438",
   "metadata": {},
   "source": [
    "* Add a Coordinator resource\n",
    "* Create a new process function with new delay and resourse\n",
    "* Modify application process to create PR creation for each PR application"
   ]
  },
  {
   "cell_type": "code",
   "execution_count": 8,
   "id": "1c51495b-cf60-4118-9d85-0f8bebff7172",
   "metadata": {
    "tags": []
   },
   "outputs": [
    {
     "data": {
      "text/plain": [
       "280"
      ]
     },
     "execution_count": 8,
     "metadata": {},
     "output_type": "execute_result"
    }
   ],
   "source": [
    "rg.integers(1,high=301)"
   ]
  },
  {
   "cell_type": "code",
   "execution_count": 9,
   "id": "525df9fc-f296-4bc4-a0ef-61bf8a8f43e6",
   "metadata": {},
   "outputs": [],
   "source": [
    "def Purchase_application_Simplified(env, employee, mean_precreation_time, mean_creation_time, mean_postcreation_time, coordinator):\n",
    "    \"\"\"Process function modeling how a PR flows through system.\"\"\"\n",
    "    print(f\"{employee} applied for PR at {env.now:.4f}\")\n",
    "    \n",
    "    # Yield for the precreation time\n",
    "    yield env.timeout(rg.exponential(mean_precreation_time))\n",
    "    \n",
    "    # Request project coordinator to create PR\n",
    "    with coordinator.request() as request:\n",
    "        print(f\"{employee} requested coordinator at {env.now:.4f}\")\n",
    "        yield request\n",
    "        print(f\"{employee} received PR at {env.now:.4f}\")\n",
    "        yield env.timeout(rg.normal(mean_creation_time, 0.5))\n",
    "        \n",
    "    # Yield for the postcreation time\n",
    "    yield env.timeout(mean_postcreation_time)\n",
    "    \n",
    "    # Process over\n",
    "    print(f\"{employee} received P.O. at {env.now:.4f}\")"
   ]
  },
  {
   "cell_type": "markdown",
   "id": "1efd7bc2-d2f3-4c86-b883-1c9fee638678",
   "metadata": {},
   "source": [
    "**Combining process and arrival**"
   ]
  },
  {
   "cell_type": "code",
   "execution_count": 12,
   "id": "d6a44440-bedf-4de2-b9b2-9325b80c3ce2",
   "metadata": {},
   "outputs": [],
   "source": [
    "def Purchase_application_random_2(env, mean_interapplication_time, mean_precreation_time, mean_creation_time,\n",
    "                              mean_postcreation_time, coordinator,  rg=default_rng(0)):\n",
    "    \"\"\"Generate applications according to a Poisson arrival process\"\"\"\n",
    "    \n",
    "    # Counter to keep track of number of applications generated and to serve as a unique application ID\n",
    "    application = 0\n",
    "    \n",
    "    # Infinite loop for generating applications\n",
    "    while True:\n",
    "        \n",
    "        # Generate next interarrival time\n",
    "        irt = rg.exponential(mean_interapplication_time)\n",
    "        \n",
    "        # yield 'timeout' event\n",
    "        yield env.timeout(irt)\n",
    "        \n",
    "        # generate new application\n",
    "        application += 1\n",
    "        \n",
    "        print(f\"application {application} created at time {env.now}\")\n",
    "        \n",
    "        # Register the process with the simulation environment\n",
    "        env.process(Purchase_application_Simplified(env, 'Employee{}'.format(application), mean_precreation_time,\n",
    "                                                    mean_creation_time, mean_postcreation_time, coordinator))\n",
    "        \n",
    "        \n",
    "        "
   ]
  },
  {
   "cell_type": "code",
   "execution_count": 15,
   "id": "e20b927b-3c79-47bd-91ad-2e3c3afa1db0",
   "metadata": {
    "collapsed": true,
    "jupyter": {
     "outputs_hidden": true
    },
    "tags": []
   },
   "outputs": [
    {
     "name": "stdout",
     "output_type": "stream",
     "text": [
      "application 1 created at time 0.003863251004468514\n",
      "Employee1 applied for PR at 0.0039\n",
      "Employee1 requested coordinator at 4.7169\n",
      "Employee1 received PR at 4.7169\n",
      "application 2 created at time 6.811147243805194\n",
      "Employee2 applied for PR at 6.8111\n",
      "application 3 created at time 7.028640298564868\n",
      "Employee3 applied for PR at 7.0286\n",
      "Employee3 requested coordinator at 10.0403\n",
      "Employee3 received PR at 10.0403\n",
      "application 4 created at time 10.23684120506682\n",
      "Employee4 applied for PR at 10.2368\n",
      "Employee2 requested coordinator at 10.5662\n",
      "Employee2 received PR at 10.5662\n",
      "application 5 created at time 12.783640293700431\n",
      "Employee5 applied for PR at 12.7836\n",
      "Employee5 requested coordinator at 14.1589\n",
      "Employee5 received PR at 14.1589\n",
      "application 6 created at time 22.23336625191591\n",
      "Employee6 applied for PR at 22.2334\n",
      "application 7 created at time 23.29539637849566\n",
      "Employee7 applied for PR at 23.2954\n",
      "Employee4 requested coordinator at 23.4429\n",
      "application 8 created at time 24.216729797380697\n",
      "Employee8 applied for PR at 24.2167\n",
      "Employee6 requested coordinator at 24.3963\n",
      "Employee7 requested coordinator at 26.9328\n",
      "application 9 created at time 28.69338803675877\n",
      "Employee9 applied for PR at 28.6934\n",
      "application 10 created at time 28.804400633115833\n",
      "Employee10 applied for PR at 28.8044\n",
      "Employee9 requested coordinator at 28.8146\n",
      "application 11 created at time 29.210393069767456\n",
      "Employee11 applied for PR at 29.2104\n",
      "Employee10 requested coordinator at 29.9806\n",
      "Employee8 requested coordinator at 30.3578\n",
      "application 12 created at time 32.30098738972478\n",
      "Employee12 applied for PR at 32.3010\n",
      "application 13 created at time 34.62463204364437\n",
      "Employee13 applied for PR at 34.6246\n",
      "Employee4 received PR at 35.8501\n",
      "Employee12 requested coordinator at 38.1332\n",
      "Employee13 requested coordinator at 39.1741\n",
      "Employee11 requested coordinator at 39.3985\n",
      "application 14 created at time 39.837667573766325\n",
      "Employee14 applied for PR at 39.8377\n",
      "Employee14 requested coordinator at 40.5307\n",
      "Employee6 received PR at 40.6502\n",
      "Employee7 received PR at 40.7958\n",
      "application 15 created at time 41.07867783127044\n",
      "Employee15 applied for PR at 41.0787\n",
      "Employee15 requested coordinator at 42.2509\n",
      "application 16 created at time 42.42331012131483\n",
      "Employee16 applied for PR at 42.4233\n",
      "Employee9 received PR at 44.2941\n",
      "Employee16 requested coordinator at 45.3202\n",
      "application 17 created at time 47.97958718025571\n",
      "Employee17 applied for PR at 47.9796\n"
     ]
    }
   ],
   "source": [
    "# Initialize a simulation environment\n",
    "env3 = simpy.Environment()\n",
    "\n",
    "# Set input values\n",
    "mean_interapplication_time = 3.0\n",
    "mean_precreation_time = 5.0\n",
    "mean_creation_time = 30\n",
    "mean_postcreation_time = 120\n",
    "num_coordinators = 4\n",
    "\n",
    "# Create Coordinator resource\n",
    "coordinator = simpy.Resource(env3, num_coordinators)\n",
    "\n",
    "# register new application process\n",
    "env3.process(Purchase_application_random_2(env3, mean_interapplication_time, mean_precreation_time, mean_creation_time,\n",
    "                                           mean_postcreation_time, coordinator))\n",
    "\n",
    "# Run the simulation\n",
    "runtime = 50\n",
    "env3.run(until=runtime)"
   ]
  },
  {
   "cell_type": "markdown",
   "id": "8e70f323-141a-4aa9-84b4-3f4934ebe986",
   "metadata": {},
   "source": [
    "## Model 3: The PR application model - Version 0.01"
   ]
  },
  {
   "cell_type": "markdown",
   "id": "2607bd91-140d-4797-b556-4de95591d8ed",
   "metadata": {},
   "source": [
    "* the SimPy environment\n",
    "* resource capacity related inputs\n",
    "* data structures to store data collected as PRs flow through the system\n",
    "* the SimPy resources for modeling the various types of staff modeled\n",
    "* process methods corresponding to processing times in each stage in the PR flow diagram"
   ]
  },
  {
   "cell_type": "code",
   "execution_count": 5,
   "id": "d4e84338-e3dc-4f95-9d30-28caf1c8f246",
   "metadata": {},
   "outputs": [],
   "source": [
    "class purchase_requisition(object):\n",
    "    def __init__(self, env, num_coordinators, num_approvers, num_indirectbuyers, rg):\n",
    "        # Simulation environment\n",
    "        self.env = env\n",
    "        self.rg = rg\n",
    "        \n",
    "        # list to hold timestamps dictionaries (one per PR)\n",
    "        self.timestamps_list = []\n",
    "        # list to hold PR queues (time, queue)\n",
    "        self.pr_queue = [(0.0, 0.0)]\n",
    "        self.postapproval_queue = [(0.0, 0.0)]\n",
    "        \n",
    "        # Create resources\n",
    "        self.coordinator = simpy.Resource(env, num_coordinators)\n",
    "        self.approver = simpy.Resource(env, num_approvers)\n",
    "        self.indirectbuyer = Resource(env, num_indirectbuyers)\n",
    "        \n",
    "    # Process methods\n",
    "    def create_PR(self, application):\n",
    "        yield self.env.timeout(self.rg.exponential(1.0))\n",
    "        \n",
    "    def approve(self, application):\n",
    "        yield self.env.timeout(self.rg.normal(4.0, 0.5))\n",
    "        \n",
    "    def create_po(self, application):\n",
    "        yield self.env.timeout(self.rg.normal(2.0, 0.5))\n",
    "        "
   ]
  },
  {
   "cell_type": "markdown",
   "id": "df54414e-07ab-4c18-9bc3-f7face501e97",
   "metadata": {},
   "source": [
    "**The create_pr function**"
   ]
  },
  {
   "cell_type": "markdown",
   "id": "d0e7318b-5d46-42ba-b8c8-f56aeb9269d7",
   "metadata": {},
   "source": [
    "* the simulation environment\n",
    "* the PR I.D\n",
    "* the PR object (created from the PRapplication class)\n",
    "* the random number generator"
   ]
  },
  {
   "cell_type": "code",
   "execution_count": null,
   "id": "72c97659-d21b-46df-8be1-39999be14739",
   "metadata": {},
   "outputs": [],
   "source": [
    "def createPR(env, application, purchase_requisition, rg):\n",
    "    # An application is received\n",
    "    app_request = env.now\n",
    "    \n",
    "    # release coordinator to create PR\n",
    "    with purchase_requisition.coordinator.request() as request:\n",
    "        yield request\n",
    "        # With coordinator, create application\n",
    "        got_coordinator_ts = env.now\n",
    "        \n",
    "        # increase and updated PR queue\n",
    "        purchase_requisition.pr_queue.append((env.now, purchase_requisition.pr_queue[-1][1] + 1))\n",
    "        \n",
    "        yield env.process(purchase_requisition.create_PR(application))\n",
    "        release_coordinator_ts = env.now\n",
    "        \n",
    "    # Request approver to approve PR\n",
    "    with purchase_requisition.approver.request() as request:\n",
    "        yield request\n",
    "        got_approver_ts = env.now\n",
    "        yield env.process(purchase_requisition.approve(application))\n",
    "        release_approver_ts = env.now\n",
    "        \n",
    "        # decrease and update PR queue\n",
    "        purchase_requisition.pr_queue.append((env.now, purchase_requisition.pr_queue[-1][1] - 1))\n",
    "        \n",
    "        # increase and update post approval queue\n",
    "        purchase_requisition.postapproval_queue.append((env.now, purchase_requisition.postapproval_queue[-1][1] + 1))\n",
    "        \n",
    "        \n",
    "        \n",
    "        "
   ]
  }
 ],
 "metadata": {
  "kernelspec": {
   "display_name": "Python [conda env:aap]",
   "language": "python",
   "name": "conda-env-aap-py"
  },
  "language_info": {
   "codemirror_mode": {
    "name": "ipython",
    "version": 3
   },
   "file_extension": ".py",
   "mimetype": "text/x-python",
   "name": "python",
   "nbconvert_exporter": "python",
   "pygments_lexer": "ipython3",
   "version": "3.7.13"
  }
 },
 "nbformat": 4,
 "nbformat_minor": 5
}
